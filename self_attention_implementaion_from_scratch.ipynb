{
  "nbformat": 4,
  "nbformat_minor": 0,
  "metadata": {
    "colab": {
      "provenance": [],
      "authorship_tag": "ABX9TyN5Pt1qS8xE/E86N5OGYXJl",
      "include_colab_link": true
    },
    "kernelspec": {
      "name": "python3",
      "display_name": "Python 3"
    },
    "language_info": {
      "name": "python"
    }
  },
  "cells": [
    {
      "cell_type": "markdown",
      "metadata": {
        "id": "view-in-github",
        "colab_type": "text"
      },
      "source": [
        "<a href=\"https://colab.research.google.com/github/ansariwaleed/self_attention_and_transformer/blob/main/self_attention_implementaion_from_scratch.ipynb\" target=\"_parent\"><img src=\"https://colab.research.google.com/assets/colab-badge.svg\" alt=\"Open In Colab\"/></a>"
      ]
    },
    {
      "cell_type": "markdown",
      "source": [
        "this is implementation of this video - https://www.youtube.com/watch?v=ZPLym9rJtM8"
      ],
      "metadata": {
        "id": "oCRhvg8SLFVX"
      }
    },
    {
      "cell_type": "markdown",
      "source": [
        "Implementing the Self - attention Mechanism from scratch in PyTorch."
      ],
      "metadata": {
        "id": "RmNAsNiHLfso"
      }
    },
    {
      "cell_type": "code",
      "execution_count": 21,
      "metadata": {
        "id": "7WjF8obQBqlQ"
      },
      "outputs": [],
      "source": [
        "import torch\n",
        "import torch.nn as nn\n",
        "import torch.nn.functional as F\n",
        "\n",
        "class Attention(nn.Module):\n",
        "    def __init__(self, d_in, d_out):\n",
        "      super().__init__()\n",
        "      self.d_in = d_in\n",
        "      self.d_out = d_out\n",
        "      self.Q = nn.Linear(d_in, d_out)\n",
        "      self.K = nn.Linear(d_in, d_out)\n",
        "      self.V = nn.Linear(d_in, d_out)\n",
        "\n",
        "    def forward(self, x):\n",
        "      queries = self.Q(x)\n",
        "      keys = self.K(x)\n",
        "      values = self.V(x)\n",
        "      scores = torch.bmm(queries, keys.transpose(1,2)) #bmm stands for batch matrix multiplication.\n",
        "      scores = scores/(self.d_out ** 0.2)\n",
        "      attention = F.softmax(scores, dim = 2)\n",
        "      hidden_stated =  torch.bmm(attention, values)\n",
        "      return hidden_stated"
      ]
    },
    {
      "cell_type": "code",
      "source": [
        "SOS_token = 0\n",
        "EOS_token = 1\n",
        "\n",
        "index2words = {\n",
        "    SOS_token: \"SOS\",\n",
        "    EOS_token: \"EOS\"\n",
        "}\n",
        "\n",
        "words = \"How are you doing ? I am good and you ?\"\n",
        "words_list = set(words.lower().split(' '))\n",
        "for word in words_list:\n",
        "  index2words[len(index2words)] = word\n",
        "\n",
        "index2words"
      ],
      "metadata": {
        "colab": {
          "base_uri": "https://localhost:8080/"
        },
        "id": "OetX3tKnOla0",
        "outputId": "9013c43a-9c4f-4e57-dae8-7a56b0b696ff"
      },
      "execution_count": 22,
      "outputs": [
        {
          "output_type": "execute_result",
          "data": {
            "text/plain": [
              "{0: 'SOS',\n",
              " 1: 'EOS',\n",
              " 2: 'doing',\n",
              " 3: 'are',\n",
              " 4: '?',\n",
              " 5: 'i',\n",
              " 6: 'am',\n",
              " 7: 'and',\n",
              " 8: 'how',\n",
              " 9: 'good',\n",
              " 10: 'you'}"
            ]
          },
          "metadata": {},
          "execution_count": 22
        }
      ]
    },
    {
      "cell_type": "code",
      "source": [
        "#inverted the imdex\n",
        "words2index = {w: i for i, w in index2words.items()}\n",
        "words2index"
      ],
      "metadata": {
        "colab": {
          "base_uri": "https://localhost:8080/"
        },
        "id": "YqoVwLZwPcxG",
        "outputId": "0720f411-35d6-487c-d555-3eeed42905e6"
      },
      "execution_count": 23,
      "outputs": [
        {
          "output_type": "execute_result",
          "data": {
            "text/plain": [
              "{'SOS': 0,\n",
              " 'EOS': 1,\n",
              " 'doing': 2,\n",
              " 'are': 3,\n",
              " '?': 4,\n",
              " 'i': 5,\n",
              " 'am': 6,\n",
              " 'and': 7,\n",
              " 'how': 8,\n",
              " 'good': 9,\n",
              " 'you': 10}"
            ]
          },
          "metadata": {},
          "execution_count": 23
        }
      ]
    },
    {
      "cell_type": "code",
      "source": [
        "#funtion to convert the words in tensors\n",
        "def convert2tensors(sentence):\n",
        "  words_list = sentence.lower().split(' ')\n",
        "  indexes = [words2index[word] for word in words_list]\n",
        "  return torch.tensor(indexes, dtype = torch.long).view(1,-1)\n",
        "\n",
        "sentence = \"How are you doing ?\"\n",
        "indexes = convert2tensors(sentence)\n",
        "\n",
        "indexes.size()"
      ],
      "metadata": {
        "colab": {
          "base_uri": "https://localhost:8080/"
        },
        "id": "r4zVMt7VPspH",
        "outputId": "0b4561eb-da2a-48f3-a263-b075ee85472c"
      },
      "execution_count": 24,
      "outputs": [
        {
          "output_type": "execute_result",
          "data": {
            "text/plain": [
              "torch.Size([1, 5])"
            ]
          },
          "metadata": {},
          "execution_count": 24
        }
      ]
    },
    {
      "cell_type": "code",
      "source": [
        "# lets now create a very small neural network to understand what is happening with this attention layer\n",
        "HIDDEN_SIZE = 10\n",
        "VOCAB_SIZE = len(words2index)\n",
        "\n",
        "embedding = nn.Embedding(VOCAB_SIZE, HIDDEN_SIZE)\n",
        "attention = Attention(HIDDEN_SIZE, HIDDEN_SIZE)\n",
        "\n",
        "sentence = \"How are you doing ?\"\n",
        "input_tensor = convert2tensors(sentence)\n",
        "\n",
        "embedded = embedding(input_tensor)\n",
        "embedded"
      ],
      "metadata": {
        "colab": {
          "base_uri": "https://localhost:8080/"
        },
        "id": "V7Snz_rRRouG",
        "outputId": "14bca08e-2e55-44c2-baae-5f8f0a5946df"
      },
      "execution_count": 25,
      "outputs": [
        {
          "output_type": "execute_result",
          "data": {
            "text/plain": [
              "tensor([[[-1.0434, -0.3815,  0.3707,  0.2588, -0.7210, -0.6069, -0.9375,\n",
              "          -1.0619,  0.7088, -0.3966],\n",
              "         [ 0.8852, -0.1778, -0.7007, -0.8887,  0.6916, -0.1492, -0.2000,\n",
              "          -0.3927,  0.2059, -1.2361],\n",
              "         [-2.6694,  0.9975, -1.6627, -0.3655, -1.6179, -0.1837,  0.6589,\n",
              "          -1.4702,  1.2794, -1.7770],\n",
              "         [-0.3591, -1.1265, -0.9088, -1.1264,  1.0296,  1.6648,  0.5465,\n",
              "          -0.8868,  0.1048, -0.6253],\n",
              "         [-1.2097,  0.5776, -0.5922, -0.5938, -1.4709,  1.6457,  1.2018,\n",
              "           0.8958, -1.2533,  0.7224]]], grad_fn=<EmbeddingBackward0>)"
            ]
          },
          "metadata": {},
          "execution_count": 25
        }
      ]
    },
    {
      "cell_type": "code",
      "source": [
        "embedded.size()"
      ],
      "metadata": {
        "colab": {
          "base_uri": "https://localhost:8080/"
        },
        "id": "hVsXiRQxSc9Z",
        "outputId": "b703d871-0d09-4a07-aa6e-a372442df495"
      },
      "execution_count": 26,
      "outputs": [
        {
          "output_type": "execute_result",
          "data": {
            "text/plain": [
              "torch.Size([1, 5, 10])"
            ]
          },
          "metadata": {},
          "execution_count": 26
        }
      ]
    },
    {
      "cell_type": "markdown",
      "source": [
        "1 is the dimensonallity of the batch, 5 is the no of token in the input sequence  & 10 is the no. of elememts ineach of the different vectors which we have"
      ],
      "metadata": {
        "id": "zzxdrdLVSiL4"
      }
    },
    {
      "cell_type": "code",
      "source": [
        "hidden_state = attention(embedded)"
      ],
      "metadata": {
        "id": "IIjGoJSsTK9U"
      },
      "execution_count": 27,
      "outputs": []
    },
    {
      "cell_type": "code",
      "source": [
        "hidden_state"
      ],
      "metadata": {
        "colab": {
          "base_uri": "https://localhost:8080/"
        },
        "id": "b8Vb1C84TUci",
        "outputId": "9ddfcb19-60f5-46c9-8698-bb4a6940fb19"
      },
      "execution_count": 28,
      "outputs": [
        {
          "output_type": "execute_result",
          "data": {
            "text/plain": [
              "tensor([[[-0.1443,  0.8333,  0.4573, -0.4115,  0.1151, -0.3583,  0.2708,\n",
              "          -0.4793,  0.5495,  0.4266],\n",
              "         [-0.1693,  0.8078,  0.4288, -0.3816,  0.0561, -0.3127,  0.2681,\n",
              "          -0.3947,  0.4566,  0.4647],\n",
              "         [-0.0310,  0.8143,  0.5136, -0.4297,  0.1974, -0.3349,  0.2796,\n",
              "          -0.5670,  0.5582,  0.2898],\n",
              "         [-0.1336,  0.7891,  0.3948, -0.3879,  0.0612, -0.3477,  0.2424,\n",
              "          -0.5233,  0.5829,  0.3332],\n",
              "         [-0.2017,  0.7148,  0.2603, -0.2947, -0.0630, -0.4044,  0.2380,\n",
              "          -0.4692,  0.5857,  0.3737]]], grad_fn=<BmmBackward0>)"
            ]
          },
          "metadata": {},
          "execution_count": 28
        }
      ]
    },
    {
      "cell_type": "code",
      "source": [
        "hidden_state.size() # size will be same as embedded tesor"
      ],
      "metadata": {
        "colab": {
          "base_uri": "https://localhost:8080/"
        },
        "id": "LcFiQFKqTV_Y",
        "outputId": "7a7c9c10-de97-4c33-82f6-cafb87bb91fb"
      },
      "execution_count": 29,
      "outputs": [
        {
          "output_type": "execute_result",
          "data": {
            "text/plain": [
              "torch.Size([1, 5, 10])"
            ]
          },
          "metadata": {},
          "execution_count": 29
        }
      ]
    },
    {
      "cell_type": "code",
      "source": [
        "d_in = HIDDEN_SIZE\n",
        "d_out = HIDDEN_SIZE\n",
        "Q = nn.Linear(d_in, d_out)\n",
        "K = nn.Linear(d_in, d_out)\n",
        "V = nn.Linear(d_in, d_out)"
      ],
      "metadata": {
        "id": "ppJuAvpLTZ14"
      },
      "execution_count": 30,
      "outputs": []
    },
    {
      "cell_type": "code",
      "source": [
        "queries = Q(embedded)\n",
        "keys = K(embedded)\n",
        "values = V(embedded)"
      ],
      "metadata": {
        "id": "u9L6OTe9UDWh"
      },
      "execution_count": 31,
      "outputs": []
    },
    {
      "cell_type": "code",
      "source": [
        "queries.size(), keys.size(), values.size()"
      ],
      "metadata": {
        "colab": {
          "base_uri": "https://localhost:8080/"
        },
        "id": "Acthjdy7UJM9",
        "outputId": "bf400ba1-9747-42b8-e8c9-37f0120d4dc2"
      },
      "execution_count": 35,
      "outputs": [
        {
          "output_type": "execute_result",
          "data": {
            "text/plain": [
              "(torch.Size([1, 5, 10]), torch.Size([1, 5, 10]), torch.Size([1, 5, 10]))"
            ]
          },
          "metadata": {},
          "execution_count": 35
        }
      ]
    },
    {
      "cell_type": "code",
      "source": [
        "scores = torch.bmm(queries, keys.transpose(1,2))\n",
        "scores.size()"
      ],
      "metadata": {
        "colab": {
          "base_uri": "https://localhost:8080/"
        },
        "id": "dvgAktT9UM1L",
        "outputId": "aae38206-0a04-41cf-8c49-17c2ff5867c6"
      },
      "execution_count": 36,
      "outputs": [
        {
          "output_type": "execute_result",
          "data": {
            "text/plain": [
              "torch.Size([1, 5, 5])"
            ]
          },
          "metadata": {},
          "execution_count": 36
        }
      ]
    },
    {
      "cell_type": "markdown",
      "source": [
        "1 is batch dimensinalty and 5 is no of input sequence, so we have a sqaure matrix"
      ],
      "metadata": {
        "id": "233iKx2UUYXp"
      }
    },
    {
      "cell_type": "code",
      "source": [
        "scores = scores/(d_out ** 0.2)\n",
        "attention = F.softmax(scores, dim = 2)"
      ],
      "metadata": {
        "id": "i7Ys3qLYUo3f"
      },
      "execution_count": 37,
      "outputs": []
    },
    {
      "cell_type": "code",
      "source": [
        "attention.size()"
      ],
      "metadata": {
        "colab": {
          "base_uri": "https://localhost:8080/"
        },
        "id": "ilZSqXV8Uv-M",
        "outputId": "59850634-b522-4c85-c9e8-fb5c6c43bee2"
      },
      "execution_count": 39,
      "outputs": [
        {
          "output_type": "execute_result",
          "data": {
            "text/plain": [
              "torch.Size([1, 5, 5])"
            ]
          },
          "metadata": {},
          "execution_count": 39
        }
      ]
    },
    {
      "cell_type": "code",
      "source": [
        "attention.sum(dim = 2)"
      ],
      "metadata": {
        "colab": {
          "base_uri": "https://localhost:8080/"
        },
        "id": "GDtfV5S7U1sm",
        "outputId": "fe87e388-9f7e-4f0c-80bf-8af8e4f676de"
      },
      "execution_count": 40,
      "outputs": [
        {
          "output_type": "execute_result",
          "data": {
            "text/plain": [
              "tensor([[1.0000, 1.0000, 1.0000, 1.0000, 1.0000]], grad_fn=<SumBackward1>)"
            ]
          },
          "metadata": {},
          "execution_count": 40
        }
      ]
    },
    {
      "cell_type": "markdown",
      "source": [
        "each row has output one shows that softmax gives probablity"
      ],
      "metadata": {
        "id": "1wXl0Y04U5qH"
      }
    },
    {
      "cell_type": "code",
      "source": [
        "attention"
      ],
      "metadata": {
        "colab": {
          "base_uri": "https://localhost:8080/"
        },
        "id": "jOEMeUu7VFYv",
        "outputId": "058f61f8-7ab5-4c46-d7eb-4939a4abf83e"
      },
      "execution_count": 41,
      "outputs": [
        {
          "output_type": "execute_result",
          "data": {
            "text/plain": [
              "tensor([[[0.1105, 0.1841, 0.1782, 0.1556, 0.3716],\n",
              "         [0.2725, 0.2144, 0.1542, 0.2287, 0.1303],\n",
              "         [0.2363, 0.2324, 0.1365, 0.2153, 0.1795],\n",
              "         [0.3623, 0.2081, 0.1902, 0.1288, 0.1107],\n",
              "         [0.1331, 0.1309, 0.5378, 0.1081, 0.0902]]],\n",
              "       grad_fn=<SoftmaxBackward0>)"
            ]
          },
          "metadata": {},
          "execution_count": 41
        }
      ]
    },
    {
      "cell_type": "code",
      "source": [
        "hidden_states = torch.bmm(attention, values)"
      ],
      "metadata": {
        "id": "_3fSAMigVIi0"
      },
      "execution_count": 42,
      "outputs": []
    },
    {
      "cell_type": "code",
      "source": [
        "hidden_state.size()"
      ],
      "metadata": {
        "colab": {
          "base_uri": "https://localhost:8080/"
        },
        "id": "Hc_Vy2zPVNTR",
        "outputId": "bbe3ef1d-1e5c-4289-87a6-994831bb060f"
      },
      "execution_count": 43,
      "outputs": [
        {
          "output_type": "execute_result",
          "data": {
            "text/plain": [
              "torch.Size([1, 5, 10])"
            ]
          },
          "metadata": {},
          "execution_count": 43
        }
      ]
    },
    {
      "cell_type": "code",
      "source": [
        "#bar plot of the attention values of different words\n",
        "\n",
        "import matplotlib.pyplot as plt\n",
        "import numpy as np\n",
        "\n",
        "# Assuming 'attention' is the attention matrix from the provided code\n",
        "# attention.size() should be (1, 5, 5)\n",
        "\n",
        "# Extract attention values\n",
        "attention_values = attention.detach().numpy()[0]\n",
        "\n",
        "# Get the words corresponding to the attention values\n",
        "words = list(words2index.keys())\n",
        "words = [words[i] for i in input_tensor.detach().numpy()[0]]\n",
        "\n",
        "\n",
        "# Create the bar plot\n",
        "plt.figure(figsize=(10, 6))\n",
        "for i in range(len(words)):\n",
        "    plt.bar(np.arange(len(words)) + i * 0.15, attention_values[i], width=0.15, label=words[i])\n",
        "\n",
        "plt.xticks(np.arange(len(words)) + 0.2, words)\n",
        "plt.xlabel(\"Words\")\n",
        "plt.ylabel(\"Attention Values\")\n",
        "plt.title(\"Attention Values for Different Words\")\n",
        "plt.legend()\n",
        "plt.show()\n"
      ],
      "metadata": {
        "colab": {
          "base_uri": "https://localhost:8080/",
          "height": 564
        },
        "id": "55_ZIyN4VSOF",
        "outputId": "8d6f2b15-906d-4b18-b798-647bdcaf2d15"
      },
      "execution_count": 45,
      "outputs": [
        {
          "output_type": "display_data",
          "data": {
            "text/plain": [
              "<Figure size 1000x600 with 1 Axes>"
            ],
            "image/png": "[encoded data removed]"
          },
          "metadata": {}
        }
      ]
    },
    {
      "cell_type": "markdown",
      "source": [
        "what this bar plot telling ?\n",
        "\n",
        "The bar plot visualizes the attention weights assigned to each word in the input sentence \"How are you doing?\" by the self-attention mechanism.  Each group of bars represents a word in the sentence, and the height of each bar within a group indicates the attention weight given to that word when processing the word represented by the group.\n",
        "\n",
        "For example:\n",
        "\n",
        "* **High Attention Weight:** A tall bar for a given word in a group signifies that the model paid significant attention to that specific word when generating the representation for the word representing the group.  This suggests a strong relationship or dependence between the two words.\n",
        "\n",
        "* **Low Attention Weight:**  A short bar indicates low attention, implying a weaker relationship.\n",
        "\n",
        "* **Self-Attention:**  Notice the bars within each group.  A word will always have some attention to itself (though not always the highest).  The other bars in the group show how much the model is attending to *other* words when processing that word.  This is the key aspect of self-attention.\n",
        "\n",
        "**In summary:** The plot reveals how each word in the sentence relates to other words in context.  Words with high mutual attention are likely semantically related or important to the overall meaning of the sentence.  The plot provides a way to interpret how the attention mechanism is focusing on different parts of the input sequence.\n"
      ],
      "metadata": {
        "id": "zypbqavTVire"
      }
    }
  ]
}